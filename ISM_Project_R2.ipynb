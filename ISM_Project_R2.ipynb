{
  "nbformat": 4,
  "nbformat_minor": 0,
  "metadata": {
    "colab": {
      "name": "ISM_Project_R2.ipynb",
      "provenance": [],
      "collapsed_sections": []
    },
    "kernelspec": {
      "name": "python3",
      "display_name": "Python 3"
    },
    "language_info": {
      "name": "python"
    }
  },
  "cells": [
    {
      "cell_type": "code",
      "execution_count": 6,
      "metadata": {
        "colab": {
          "base_uri": "https://localhost:8080/"
        },
        "id": "JUN0pcG4KXKy",
        "outputId": "ffd3d011-148c-4b34-b92e-402d3501b119"
      },
      "outputs": [
        {
          "output_type": "stream",
          "name": "stdout",
          "text": [
            "/usr/local/bin/pip: line 36: readlink: command not found\n",
            "/usr/local/bin/pip: line 36: readlink: command not found\n",
            "/usr/local/bin/pip: line 36: readlink: command not found\n",
            "/usr/local/bin/pip: line 36: readlink: command not found\n",
            "Requirement already satisfied: PyCrypto in /usr/local/lib/python3.7/dist-packages (2.6.1)\n"
          ]
        }
      ],
      "source": [
        "pip install PyCrypto"
      ]
    },
    {
      "cell_type": "code",
      "source": [
        "from Crypto import Random\n",
        "from Crypto.Cipher import AES\n",
        "import os\n",
        "import os.path\n",
        "from os import listdir\n",
        "from os.path import isfile, join\n",
        "import time"
      ],
      "metadata": {
        "id": "6JS4oZ3GKhVW"
      },
      "execution_count": 7,
      "outputs": []
    },
    {
      "cell_type": "code",
      "source": [
        "class Encryptor:\n",
        "    def __init__(self, key):\n",
        "        self.key = key\n",
        "\n",
        "    def pad(self, s):\n",
        "        return s + b\"\\0\" * (AES.block_size - len(s) % AES.block_size)\n",
        "\n",
        "    def encrypt(self, message, key, key_size=256):\n",
        "        message = self.pad(message)\n",
        "        iv = Random.new().read(AES.block_size)\n",
        "        cipher = AES.new(key, AES.MODE_CBC, iv)\n",
        "        return iv + cipher.encrypt(message)\n",
        "\n",
        "    def encrypt_file(self, file_name):\n",
        "        with open(file_name, 'rb') as fo:\n",
        "            plaintext = fo.read()\n",
        "        enc = self.encrypt(plaintext, self.key)\n",
        "        with open(file_name + \".enc\", 'wb') as fo:\n",
        "            fo.write(enc)\n",
        "        os.remove(file_name)\n",
        "\n",
        "    def decrypt(self, ciphertext, key):\n",
        "        iv = ciphertext[:AES.block_size]\n",
        "        cipher = AES.new(key, AES.MODE_CBC, iv)\n",
        "        plaintext = cipher.decrypt(ciphertext[AES.block_size:])\n",
        "        return plaintext.rstrip(b\"\\0\")\n",
        "\n",
        "    def decrypt_file(self, file_name):\n",
        "        with open(file_name, 'rb') as fo:\n",
        "            ciphertext = fo.read()\n",
        "        dec = self.decrypt(ciphertext, self.key)\n",
        "        with open(file_name[:-4], 'wb') as fo:\n",
        "            fo.write(dec)\n",
        "        os.remove(file_name)\n",
        "\n",
        "    def getAllFiles(self):\n",
        "        dir_path = os.path.dirname(os.path.realpath('/content/samplefolder'))\n",
        "        dirs = []\n",
        "        for dirName, subdirList, fileList in os.walk(dir_path):\n",
        "            for fname in fileList:\n",
        "                if (fname != 'script.py' and fname != 'data.txt.enc'):\n",
        "                    dirs.append(dirName + \"/\" + fname)\n",
        "        return dirs\n",
        "\n",
        "    def encrypt_all_files(self):\n",
        "        dirs = self.getAllFiles()\n",
        "        for file_name in dirs:\n",
        "            self.encrypt_file(file_name)\n",
        "\n",
        "    def decrypt_all_files(self):\n",
        "        dirs = self.getAllFiles()\n",
        "        for file_name in dirs:\n",
        "            self.decrypt_file(file_name)"
      ],
      "metadata": {
        "id": "ST_sjTNWKqoi"
      },
      "execution_count": 8,
      "outputs": []
    },
    {
      "cell_type": "code",
      "source": [
        "key = b'[EX\\xc8\\xd5\\xbfI{\\xa2$\\x05(\\xd5\\x18\\xbf\\xc0\\x85)\\x10nc\\x94\\x02)j\\xdf\\xcb\\xc4\\x94\\x9d(\\x9e'\n",
        "enc = Encryptor(key)\n",
        "def clear(): return os.system('cls')"
      ],
      "metadata": {
        "id": "OGvjJndGK2CH"
      },
      "execution_count": 9,
      "outputs": []
    },
    {
      "cell_type": "code",
      "source": [
        "if os.path.isfile('data.txt.enc'):\n",
        "    while True:\n",
        "        password = str(input(\"Enter password: \"))\n",
        "        enc.decrypt_file(\"data.txt.enc\")\n",
        "        p = ''\n",
        "        with open(\"data.txt\", \"r\") as f:\n",
        "            p = f.readlines()\n",
        "        if p[0] == password:\n",
        "            enc.encrypt_file(\"data.txt\")\n",
        "            break\n",
        "    while True:\n",
        "        clear()\n",
        "        choice = int(input(\n",
        "            \"1. Press '1' to encrypt file.\\n2. Press '2' to decrypt file.\\n3. Press '3' to Encrypt all files in the directory.\\n4. Press '4' to decrypt all files in the directory.\\n5. Press '5' to exit.\\n\"))\n",
        "        clear()\n",
        "        if choice == 1:\n",
        "            enc.encrypt_file(str(input(\"Enter name of file to encrypt: \")))\n",
        "        elif choice == 2:\n",
        "            enc.decrypt_file(str(input(\"Enter name of file to decrypt: \")))\n",
        "        elif choice == 3:\n",
        "            enc.encrypt_all_files()\n",
        "        elif choice == 4:\n",
        "            enc.decrypt_all_files()\n",
        "        elif choice == 5:\n",
        "            exit()\n",
        "            break\n",
        "        else:\n",
        "            print(\"Please select a valid option!\")\n",
        "else:\n",
        "    while True:\n",
        "        clear()\n",
        "        password = str(\n",
        "            input(\"Setting up stuff. Enter a password that will be used for decryption: \"))\n",
        "        repassword = str(input(\"Confirm password: \"))\n",
        "        if password == repassword:\n",
        "            break\n",
        "        else:\n",
        "            print(\"Passwords Mismatched!\")\n",
        "    f = open(\"data.txt\", \"w+\")\n",
        "    f.write(password)\n",
        "    f.close()\n",
        "    enc.encrypt_file(\"data.txt\")\n",
        "    print(\"Please restart the program to complete the setup\")\n",
        "    time.sleep(15)"
      ],
      "metadata": {
        "colab": {
          "base_uri": "https://localhost:8080/"
        },
        "id": "wjKAfHEOK8cE",
        "outputId": "f6cb29cf-297a-4328-8c16-d88117b8c93d"
      },
      "execution_count": 11,
      "outputs": [
        {
          "name": "stdout",
          "output_type": "stream",
          "text": [
            "Enter password: aks1234\n",
            "1. Press '1' to encrypt file.\n",
            "2. Press '2' to decrypt file.\n",
            "3. Press '3' to Encrypt all files in the directory.\n",
            "4. Press '4' to decrypt all files in the directory.\n",
            "5. Press '5' to exit.\n",
            "1\n",
            "Enter name of file to encrypt: goa.JPG\n",
            "1. Press '1' to encrypt file.\n",
            "2. Press '2' to decrypt file.\n",
            "3. Press '3' to Encrypt all files in the directory.\n",
            "4. Press '4' to decrypt all files in the directory.\n",
            "5. Press '5' to exit.\n",
            "2\n",
            "Enter name of file to decrypt: goa.JPG.enc\n",
            "1. Press '1' to encrypt file.\n",
            "2. Press '2' to decrypt file.\n",
            "3. Press '3' to Encrypt all files in the directory.\n",
            "4. Press '4' to decrypt all files in the directory.\n",
            "5. Press '5' to exit.\n",
            "3\n",
            "1. Press '1' to encrypt file.\n",
            "2. Press '2' to decrypt file.\n",
            "3. Press '3' to Encrypt all files in the directory.\n",
            "4. Press '4' to decrypt all files in the directory.\n",
            "5. Press '5' to exit.\n",
            "4\n",
            "1. Press '1' to encrypt file.\n",
            "2. Press '2' to decrypt file.\n",
            "3. Press '3' to Encrypt all files in the directory.\n",
            "4. Press '4' to decrypt all files in the directory.\n",
            "5. Press '5' to exit.\n",
            "5\n"
          ]
        }
      ]
    },
    {
      "cell_type": "code",
      "source": [
        ""
      ],
      "metadata": {
        "id": "vadSt7nwLBNu"
      },
      "execution_count": null,
      "outputs": []
    }
  ]
}